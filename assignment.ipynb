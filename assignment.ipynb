{
 "cells": [
  {
   "cell_type": "code",
   "execution_count": null,
   "metadata": {},
   "outputs": [],
   "source": [
    "import requests\n",
    "import csv\n",
    "\n",
    "def get_linkedin_data_api(first_name, last_name):\n",
    "    api_key = \"YOUR_API_KEY\"  # Replace with your API key\n",
    "    url = f\"https://api.linkedin.com/v2/search?firstName={first_name}&lastName={last_name}\"\n",
    "    headers = {\"Authorization\": f\"Bearer {api_key}\"}\n",
    "    response = requests.get(url, headers=headers)\n",
    "\n",
    "    if response.status_code == 200:\n",
    "        data = response.json()\n",
    "        # Extract relevant data from API response and write to CSV\n",
    "        with open(\"linkedin_data.csv\", \"w\", newline=\"\") as csvfile:\n",
    "            fieldnames = [\"Name\", \"Title\", \"Company\", ...]  # Adjust fields as needed\n",
    "            writer = csv.DictWriter(csvfile, fieldnames=fieldnames)\n",
    "            writer.writeheader()\n",
    "            # Write user data to CSV\n",
    "    else:\n",
    "        print(\"API request failed\")\n",
    "\n",
    "# Example usage\n",
    "first_name = input(\"Enter first name: \")\n",
    "last_name = input(\"Enter last name: \")\n",
    "get_linkedin_data_api(first_name, last_name)\n"
   ]
  }
 ],
 "metadata": {
  "language_info": {
   "name": "python"
  }
 },
 "nbformat": 4,
 "nbformat_minor": 2
}
